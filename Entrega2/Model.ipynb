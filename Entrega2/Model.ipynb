{
 "cells": [
  {
   "cell_type": "code",
   "execution_count": 8,
   "metadata": {},
   "outputs": [],
   "source": [
    "import pandas as pd\n",
    "from sklearn.model_selection import train_test_split\n",
    "from sklearn.linear_model import LinearRegression\n",
    "from sklearn.metrics import r2_score, mean_squared_error, accuracy_score, f1_score, recall_score, confusion_matrix, classification_report\n",
    "from sklearn.preprocessing import StandardScaler\n",
    "from sklearn.decomposition import PCA\n",
    "import matplotlib.pyplot as plt\n",
    "from sklearn.cluster import KMeans\n",
    "import numpy as np\n",
    "from sklearn.decomposition import KernelPCA\n",
    "from sklearn.linear_model import LogisticRegression\n",
    "import matplotlib.pyplot as plt\n",
    "import seaborn as sns\n",
    "import datetime as dt\n",
    "import xgboost as xgb\n",
    "from sklearn.svm import SVC, SVR\n",
    "from sklearn.model_selection import GridSearchCV\n",
    "from sklearn.preprocessing import LabelEncoder\n",
    "import pickle\n",
    "from sklearn.svm import SVC\n",
    "from sklearn.ensemble import RandomForestClassifier\n",
    "from xgboost import XGBClassifier"
   ]
  },
  {
   "cell_type": "code",
   "execution_count": 10,
   "metadata": {},
   "outputs": [],
   "source": [
    "datos = pd.read_csv('datos_procesados.csv')\n",
    "landmarks = datos.drop(columns='460')\n",
    "labels = datos['460']"
   ]
  },
  {
   "cell_type": "code",
   "execution_count": 11,
   "metadata": {},
   "outputs": [],
   "source": [
    "landmarks = landmarks.drop(columns=['Unnamed: 0'])"
   ]
  },
  {
   "cell_type": "code",
   "execution_count": 10,
   "metadata": {},
   "outputs": [
    {
     "name": "stdout",
     "output_type": "stream",
     "text": [
      "Mejores hiperparámetros sacarosa: {'C': 100, 'gamma': 0.01, 'kernel': 'rbf'}\n"
     ]
    }
   ],
   "source": [
    "import warnings\n",
    "\n",
    "warnings.filterwarnings('ignore')\n",
    "scaler = StandardScaler()\n",
    "label_encoder = LabelEncoder()\n",
    "numeric_labels = label_encoder.fit_transform(labels)\n",
    "X_train, X_test, y_train, y_test = train_test_split(scaler.fit_transform(landmarks), numeric_labels, test_size=0.3, random_state=42)\n",
    "\n",
    "\n",
    "\n",
    "param_grid = {\n",
    "    'C': [0.1, 1, 10, 100],\n",
    "    'kernel': ['linear', 'rbf', 'poly'],\n",
    "    'gamma': ['scale', 'auto', 0.001, 0.01, 0.1, 1],\n",
    "    #'degree': [2, 3, 4]  # Solo se usará si kernel='poly'\n",
    "}\n",
    "\n",
    "#Realizar la búsqueda de hiperparámetros\n",
    "grid_search = GridSearchCV(estimator=SVC(), param_grid=param_grid, scoring='accuracy', cv=5, n_jobs=-1)\n",
    "grid_search.fit(X_train, y_train)\n",
    "\n",
    "#Mostrar los mejores hiperparámetros encontrados\n",
    "print(\"Mejores hiperparámetros sacarosa:\", grid_search.best_params_)"
   ]
  },
  {
   "cell_type": "code",
   "execution_count": null,
   "metadata": {},
   "outputs": [],
   "source": [
    "scaler = StandardScaler()\n",
    "label_encoder = LabelEncoder()\n",
    "numeric_labels = label_encoder.fit_transform(labels)\n",
    "X_train, X_test, y_train, y_test = train_test_split(scaler.fit_transform(landmarks), numeric_labels, test_size=0.3, random_state=42)\n",
    "\n",
    "xgb_model = xgb.XGBClassifier(objective='multi:softmax', num_class=5, gamma = 0.1, max_depth = 5, n_estimators = 500)\n",
    "xgb_model.fit(X_train, y_train)\n",
    "param_grid = {\n",
    "    \"learning_rate\": [0.01, 0.1, 0.3, 0.5],\n",
    "    \"n_estimators\": [100, 500, 1000],\n",
    "    \"gamma\": [0, 0.1, 0.3, 0.5],\n",
    "    'max_depth': [5, 10, 15],\n",
    "}\n",
    "\n",
    "# Realizar la búsqueda de hiperparámetros\n",
    "grid_search = GridSearchCV(estimator=xgb_model, param_grid=param_grid, scoring='accuracy', cv=3, verbose=1)\n",
    "grid_search.fit(X_train, y_train)\n",
    "\n",
    "# Mostrar los mejores hiperparámetros encontrados\n",
    "print(\"Mejores hiperparámetros:\", grid_search.best_params_)"
   ]
  },
  {
   "cell_type": "code",
   "execution_count": null,
   "metadata": {},
   "outputs": [],
   "source": [
    "scaler = StandardScaler()\n",
    "label_encoder = LabelEncoder()\n",
    "numeric_labels = label_encoder.fit_transform(labels)\n",
    "X_train, X_test, y_train, y_test = train_test_split(scaler.fit_transform(landmarks), numeric_labels, test_size=0.3, random_state=42)\n",
    "# Define the parameter grid for Random Forest\n",
    "param_grid_rf = {\n",
    "    'n_estimators': [100, 200, 300],\n",
    "    'max_depth': [None, 10, 20, 30],\n",
    "    'min_samples_split': [2, 5, 10],\n",
    "    'min_samples_leaf': [1, 2, 4],\n",
    "    'bootstrap': [True, False]\n",
    "}\n",
    "\n",
    "# Initialize the Random Forest Classifier\n",
    "rf_model = RandomForestClassifier(random_state=42)\n",
    "\n",
    "# Perform GridSearchCV\n",
    "grid_search_rf = GridSearchCV(estimator=rf_model, param_grid=param_grid_rf, scoring='accuracy', cv=3, n_jobs=-1, verbose=1)\n",
    "grid_search_rf.fit(X_train, y_train)\n",
    "\n",
    "# Display the best parameters\n",
    "print(\"Best parameters for Random Forest:\", grid_search_rf.best_params_)"
   ]
  },
  {
   "cell_type": "code",
   "execution_count": 23,
   "metadata": {},
   "outputs": [],
   "source": [
    "scaler = StandardScaler()\n",
    "label_encoder = LabelEncoder()\n",
    "numeric_labels = label_encoder.fit_transform(labels)\n",
    "X_train, X_test, y_train, y_test = train_test_split(scaler.fit_transform(landmarks), numeric_labels, test_size=0.3, random_state=42)\n",
    "\n",
    "xgb_model = RandomForestClassifier(bootstrap= False, max_depth= 20, min_samples_leaf= 1, min_samples_split= 2, n_estimators= 300)\n",
    "xgb_model.fit(X_train, y_train)\n",
    "\n",
    "y_pred = xgb_model.predict(X_test)"
   ]
  },
  {
   "cell_type": "code",
   "execution_count": 32,
   "metadata": {},
   "outputs": [],
   "source": [
    "scaler = StandardScaler()\n",
    "label_encoder = LabelEncoder()\n",
    "numeric_labels = label_encoder.fit_transform(labels)\n",
    "X_train, X_test, y_train, y_test = train_test_split(scaler.fit_transform(landmarks), numeric_labels, test_size=0.3, random_state=42)\n",
    "\n",
    "xgb_model = SVC(gamma= 0.01, C= 100, kernel='rbf')\n",
    "xgb_model.fit(X_train, y_train)\n",
    "\n",
    "y_pred = xgb_model.predict(X_test)"
   ]
  },
  {
   "cell_type": "code",
   "execution_count": 12,
   "metadata": {},
   "outputs": [],
   "source": [
    "scaler = StandardScaler()\n",
    "label_encoder = LabelEncoder()\n",
    "numeric_labels = label_encoder.fit_transform(labels)\n",
    "X_train, X_test, y_train, y_test = train_test_split(scaler.fit_transform(landmarks), numeric_labels, test_size=0.3, random_state=42)\n",
    "\n",
    "xgb_model = xgb.XGBClassifier(objective='multi:softmax',gamma= 0.1, learning_rate= 0.1, max_depth= 5, n_estimators= 1000)\n",
    "xgb_model.fit(X_train, y_train)\n",
    "\n",
    "y_pred = xgb_model.predict(X_test)"
   ]
  },
  {
   "cell_type": "code",
   "execution_count": 13,
   "metadata": {},
   "outputs": [
    {
     "name": "stdout",
     "output_type": "stream",
     "text": [
      "Exactitud del modelo: 0.9755093194625054\n",
      "\n",
      "Matriz de Confusión:\n",
      " [[ 650   18   19    1    1]\n",
      " [   4 1744    0    4    6]\n",
      " [  21    5  642    3    0]\n",
      " [   5   13    2  755    2]\n",
      " [   0    4    2    3  710]]\n",
      "\n",
      "Reporte de Clasificación:\n",
      "               precision    recall  f1-score   support\n",
      "\n",
      "           0       0.96      0.94      0.95       689\n",
      "           1       0.98      0.99      0.98      1758\n",
      "           2       0.97      0.96      0.96       671\n",
      "           3       0.99      0.97      0.98       777\n",
      "           4       0.99      0.99      0.99       719\n",
      "\n",
      "    accuracy                           0.98      4614\n",
      "   macro avg       0.97      0.97      0.97      4614\n",
      "weighted avg       0.98      0.98      0.98      4614\n",
      "\n"
     ]
    }
   ],
   "source": [
    "accuracy = accuracy_score(y_test, y_pred)\n",
    "conf_matrix = confusion_matrix(y_test, y_pred)\n",
    "class_report = classification_report(y_test, y_pred)\n",
    "\n",
    "print(\"Exactitud del modelo:\", accuracy)\n",
    "print(\"\\nMatriz de Confusión:\\n\", conf_matrix)\n",
    "print(\"\\nReporte de Clasificación:\\n\", class_report)"
   ]
  },
  {
   "cell_type": "code",
   "execution_count": 14,
   "metadata": {},
   "outputs": [
    {
     "name": "stdout",
     "output_type": "stream",
     "text": [
      "Model saved to xgb_model.pkl\n"
     ]
    }
   ],
   "source": [
    "import joblib\n",
    "\n",
    "\n",
    "# Save the model to a file\n",
    "joblib_file = \"xgb_model.pkl\"\n",
    "joblib.dump(xgb_model, joblib_file)\n",
    "\n",
    "print(f\"Model saved to {joblib_file}\")"
   ]
  },
  {
   "cell_type": "code",
   "execution_count": 15,
   "metadata": {},
   "outputs": [],
   "source": [
    "# Save the scaler to a file\n",
    "with open('scaler.pkl', 'wb') as scaler_file:\n",
    "    pickle.dump(scaler, scaler_file)"
   ]
  },
  {
   "cell_type": "code",
   "execution_count": 22,
   "metadata": {},
   "outputs": [
    {
     "data": {
      "text/plain": [
       "array([\"['siting_down']\", \"['spinning']\", \"['standing_up']\",\n",
       "       \"['walking_away']\", \"['walking_to_camera']\"], dtype=object)"
      ]
     },
     "execution_count": 22,
     "metadata": {},
     "output_type": "execute_result"
    }
   ],
   "source": [
    "label_encoder.inverse_transform([0, 1, 2, 3, 4])"
   ]
  },
  {
   "cell_type": "code",
   "execution_count": 27,
   "metadata": {},
   "outputs": [],
   "source": [
    "X = StandardScaler().fit_transform(landmarks)\n",
    "pca = PCA(n_components=28) # Reduce to 2 dimensions for visualization  # Reduce to 2 dimensions for visualization\n",
    "new_x = pca.fit_transform(X)\n",
    "\n",
    "scaler = StandardScaler()\n",
    "label_encoder = LabelEncoder()\n",
    "numeric_labels = label_encoder.fit_transform(labels)\n",
    "X_train, X_test, y_train, y_test = train_test_split(new_x, numeric_labels, test_size=0.3, random_state=42)\n",
    "\n",
    "xgb_model = xgb.XGBClassifier(objective='multi:softmax',gamma= 0, learning_rate= 0.01, max_depth= 5, n_estimators= 1000)\n",
    "xgb_model.fit(X_train, y_train)\n",
    "\n",
    "y_pred = xgb_model.predict(X_test)"
   ]
  },
  {
   "cell_type": "code",
   "execution_count": 28,
   "metadata": {},
   "outputs": [
    {
     "name": "stdout",
     "output_type": "stream",
     "text": [
      "Exactitud del modelo: 0.870388507998694\n",
      "\n",
      "Matriz de Confusión:\n",
      " [[ 219   59   24    3    0]\n",
      " [   9 1318   13   14   17]\n",
      " [  13   52  232   11    1]\n",
      " [   6  124    8  409    8]\n",
      " [   0   25    7    3  488]]\n",
      "\n",
      "Reporte de Clasificación:\n",
      "               precision    recall  f1-score   support\n",
      "\n",
      "           0       0.89      0.72      0.79       305\n",
      "           1       0.84      0.96      0.89      1371\n",
      "           2       0.82      0.75      0.78       309\n",
      "           3       0.93      0.74      0.82       555\n",
      "           4       0.95      0.93      0.94       523\n",
      "\n",
      "    accuracy                           0.87      3063\n",
      "   macro avg       0.88      0.82      0.85      3063\n",
      "weighted avg       0.88      0.87      0.87      3063\n",
      "\n"
     ]
    }
   ],
   "source": [
    "accuracy = accuracy_score(y_test, y_pred)\n",
    "conf_matrix = confusion_matrix(y_test, y_pred)\n",
    "class_report = classification_report(y_test, y_pred)\n",
    "\n",
    "print(\"Exactitud del modelo:\", accuracy)\n",
    "print(\"\\nMatriz de Confusión:\\n\", conf_matrix)\n",
    "print(\"\\nReporte de Clasificación:\\n\", class_report)"
   ]
  }
 ],
 "metadata": {
  "kernelspec": {
   "display_name": "Python 3",
   "language": "python",
   "name": "python3"
  },
  "language_info": {
   "codemirror_mode": {
    "name": "ipython",
    "version": 3
   },
   "file_extension": ".py",
   "mimetype": "text/x-python",
   "name": "python",
   "nbconvert_exporter": "python",
   "pygments_lexer": "ipython3",
   "version": "3.11.4"
  }
 },
 "nbformat": 4,
 "nbformat_minor": 2
}
