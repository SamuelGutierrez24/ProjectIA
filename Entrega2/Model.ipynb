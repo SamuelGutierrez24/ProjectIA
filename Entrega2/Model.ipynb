{
 "cells": [
  {
   "cell_type": "code",
   "execution_count": 3,
   "metadata": {},
   "outputs": [],
   "source": [
    "import pandas as pd\n",
    "from sklearn.model_selection import train_test_split\n",
    "from sklearn.linear_model import LinearRegression\n",
    "from sklearn.metrics import r2_score, mean_squared_error, accuracy_score, f1_score, recall_score, confusion_matrix, classification_report\n",
    "from sklearn.preprocessing import StandardScaler\n",
    "from sklearn.decomposition import PCA\n",
    "import matplotlib.pyplot as plt\n",
    "from sklearn.cluster import KMeans\n",
    "import numpy as np\n",
    "from sklearn.decomposition import KernelPCA\n",
    "from sklearn.linear_model import LogisticRegression\n",
    "import matplotlib.pyplot as plt\n",
    "import seaborn as sns\n",
    "import datetime as dt\n",
    "import xgboost as xgb\n",
    "from sklearn.svm import SVC, SVR\n",
    "from sklearn.model_selection import GridSearchCV\n",
    "from sklearn.preprocessing import LabelEncoder"
   ]
  },
  {
   "cell_type": "code",
   "execution_count": 4,
   "metadata": {},
   "outputs": [],
   "source": [
    "datos = pd.read_csv('datos_procesados.csv')\n",
    "landmarks = datos.drop(columns='label')\n",
    "labels = datos['label']"
   ]
  },
  {
   "cell_type": "code",
   "execution_count": 8,
   "metadata": {},
   "outputs": [
    {
     "name": "stdout",
     "output_type": "stream",
     "text": [
      "Fitting 3 folds for each of 144 candidates, totalling 432 fits\n"
     ]
    },
    {
     "name": "stderr",
     "output_type": "stream",
     "text": [
      "c:\\Users\\camic\\OneDrive\\Documentos\\Inteligencia artificial\\ProjectIA\\venv\\Lib\\site-packages\\numpy\\ma\\core.py:2881: RuntimeWarning: invalid value encountered in cast\n",
      "  _data = np.array(data, dtype=dtype, copy=copy,\n"
     ]
    },
    {
     "name": "stdout",
     "output_type": "stream",
     "text": [
      "Mejores hiperparámetros: {'gamma': 0, 'learning_rate': 0.01, 'max_depth': 5, 'n_estimators': 1000}\n"
     ]
    }
   ],
   "source": [
    "scaler = StandardScaler()\n",
    "label_encoder = LabelEncoder()\n",
    "numeric_labels = label_encoder.fit_transform(labels)\n",
    "X_train, X_test, y_train, y_test = train_test_split(scaler.fit_transform(landmarks), numeric_labels, test_size=0.3, random_state=42)\n",
    "\n",
    "xgb_model = xgb.XGBClassifier(objective='multi:softmax', num_class=5, gamma = 0.1, max_depth = 5, n_estimators = 500)\n",
    "xgb_model.fit(X_train, y_train)\n",
    "param_grid = {\n",
    "    \"learning_rate\": [0.01, 0.1, 0.3, 0.5],\n",
    "    \"n_estimators\": [100, 500, 1000],\n",
    "    \"gamma\": [0, 0.1, 0.3, 0.5],\n",
    "    'max_depth': [5, 10, 15],\n",
    "}\n",
    "\n",
    "# Realizar la búsqueda de hiperparámetros\n",
    "grid_search = GridSearchCV(estimator=xgb_model, param_grid=param_grid, scoring='accuracy', cv=3, verbose=1)\n",
    "grid_search.fit(X_train, y_train)\n",
    "\n",
    "# Mostrar los mejores hiperparámetros encontrados\n",
    "print(\"Mejores hiperparámetros:\", grid_search.best_params_)"
   ]
  },
  {
   "cell_type": "code",
   "execution_count": 5,
   "metadata": {},
   "outputs": [],
   "source": [
    "scaler = StandardScaler()\n",
    "label_encoder = LabelEncoder()\n",
    "numeric_labels = label_encoder.fit_transform(labels)\n",
    "X_train, X_test, y_train, y_test = train_test_split(scaler.fit_transform(landmarks), numeric_labels, test_size=0.3, random_state=42)\n",
    "\n",
    "xgb_model = xgb.XGBClassifier(objective='multi:softmax',gamma= 0, learning_rate= 0.01, max_depth= 5, n_estimators= 1000)\n",
    "xgb_model.fit(X_train, y_train)\n",
    "\n",
    "y_pred = xgb_model.predict(X_test)"
   ]
  },
  {
   "cell_type": "code",
   "execution_count": 6,
   "metadata": {},
   "outputs": [
    {
     "name": "stdout",
     "output_type": "stream",
     "text": [
      "Exactitud del modelo: 0.9989683631361761\n",
      "\n",
      "Matriz de Confusión:\n",
      " [[ 272    0    0    0    0]\n",
      " [   0 1339    0    0    0]\n",
      " [   0    1  293    0    0]\n",
      " [   0    0    2  503    0]\n",
      " [   0    0    0    0  498]]\n",
      "\n",
      "Reporte de Clasificación:\n",
      "               precision    recall  f1-score   support\n",
      "\n",
      "           0       1.00      1.00      1.00       272\n",
      "           1       1.00      1.00      1.00      1339\n",
      "           2       0.99      1.00      0.99       294\n",
      "           3       1.00      1.00      1.00       505\n",
      "           4       1.00      1.00      1.00       498\n",
      "\n",
      "    accuracy                           1.00      2908\n",
      "   macro avg       1.00      1.00      1.00      2908\n",
      "weighted avg       1.00      1.00      1.00      2908\n",
      "\n"
     ]
    }
   ],
   "source": [
    "accuracy = accuracy_score(y_test, y_pred)\n",
    "conf_matrix = confusion_matrix(y_test, y_pred)\n",
    "class_report = classification_report(y_test, y_pred)\n",
    "\n",
    "print(\"Exactitud del modelo:\", accuracy)\n",
    "print(\"\\nMatriz de Confusión:\\n\", conf_matrix)\n",
    "print(\"\\nReporte de Clasificación:\\n\", class_report)"
   ]
  },
  {
   "cell_type": "code",
   "execution_count": 7,
   "metadata": {},
   "outputs": [
    {
     "data": {
      "text/plain": [
       "array([\"['siting_down']\", \"['spinning']\", \"['standing_up']\",\n",
       "       \"['walking_away']\", \"['walking_to_camera']\"], dtype=object)"
      ]
     },
     "execution_count": 7,
     "metadata": {},
     "output_type": "execute_result"
    }
   ],
   "source": [
    "label_encoder.inverse_transform([0, 1, 2, 3, 4])"
   ]
  },
  {
   "cell_type": "code",
   "execution_count": 8,
   "metadata": {},
   "outputs": [],
   "source": [
    "X = StandardScaler().fit_transform(landmarks)\n",
    "pca = PCA(n_components=17) # Reduce to 2 dimensions for visualization  # Reduce to 2 dimensions for visualization\n",
    "new_x = pca.fit_transform(X)\n",
    "\n",
    "scaler = StandardScaler()\n",
    "label_encoder = LabelEncoder()\n",
    "numeric_labels = label_encoder.fit_transform(labels)\n",
    "X_train, X_test, y_train, y_test = train_test_split(new_x, numeric_labels, test_size=0.3, random_state=42)\n",
    "\n",
    "xgb_model = xgb.XGBClassifier(objective='multi:softmax',gamma= 0, learning_rate= 0.01, max_depth= 5, n_estimators= 1000)\n",
    "xgb_model.fit(X_train, y_train)\n",
    "\n",
    "y_pred = xgb_model.predict(X_test)"
   ]
  },
  {
   "cell_type": "code",
   "execution_count": 9,
   "metadata": {},
   "outputs": [
    {
     "name": "stdout",
     "output_type": "stream",
     "text": [
      "Exactitud del modelo: 0.7936726272352133\n",
      "\n",
      "Matriz de Confusión:\n",
      " [[ 160  101    3    0    8]\n",
      " [   6 1289    5   17   22]\n",
      " [   2   81  197    8    6]\n",
      " [   5  148    3  334   15]\n",
      " [   0  140    3   27  328]]\n",
      "\n",
      "Reporte de Clasificación:\n",
      "               precision    recall  f1-score   support\n",
      "\n",
      "           0       0.92      0.59      0.72       272\n",
      "           1       0.73      0.96      0.83      1339\n",
      "           2       0.93      0.67      0.78       294\n",
      "           3       0.87      0.66      0.75       505\n",
      "           4       0.87      0.66      0.75       498\n",
      "\n",
      "    accuracy                           0.79      2908\n",
      "   macro avg       0.86      0.71      0.77      2908\n",
      "weighted avg       0.82      0.79      0.79      2908\n",
      "\n"
     ]
    }
   ],
   "source": [
    "accuracy = accuracy_score(y_test, y_pred)\n",
    "conf_matrix = confusion_matrix(y_test, y_pred)\n",
    "class_report = classification_report(y_test, y_pred)\n",
    "\n",
    "print(\"Exactitud del modelo:\", accuracy)\n",
    "print(\"\\nMatriz de Confusión:\\n\", conf_matrix)\n",
    "print(\"\\nReporte de Clasificación:\\n\", class_report)"
   ]
  }
 ],
 "metadata": {
  "kernelspec": {
   "display_name": ".venv",
   "language": "python",
   "name": "python3"
  },
  "language_info": {
   "codemirror_mode": {
    "name": "ipython",
    "version": 3
   },
   "file_extension": ".py",
   "mimetype": "text/x-python",
   "name": "python",
   "nbconvert_exporter": "python",
   "pygments_lexer": "ipython3",
   "version": "3.10.12"
  }
 },
 "nbformat": 4,
 "nbformat_minor": 2
}
